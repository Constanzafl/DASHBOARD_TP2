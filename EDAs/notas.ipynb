{
 "cells": [
  {
   "cell_type": "markdown",
   "metadata": {},
   "source": [
    "notas de codigo que no use en generalidades. "
   ]
  },
  {
   "cell_type": "code",
   "execution_count": null,
   "metadata": {},
   "outputs": [],
   "source": [
    "## esta seria para graficar en dos columnas \n",
    "col1, col2 = st.columns(2)\n",
    "with col1:\n",
    "    top10= top10[top10['name']=='Bitcoin']\n",
    "    fig=plt.figure()\n",
    "    sns.scatterplot(x='ath', y='name', data=top10)\n",
    "    plt.title('valor maximo bitcoin')\n",
    "    st.pyplot(fig)\n",
    "with col2:\n",
    "    top10= top10[top10['name']=='BNB']\n",
    "    fig=plt.figure()\n",
    "    sns.scatterplot(x='ath', y='name', data=top10)\n",
    "    plt.title('valor maximo bnb')\n",
    "    st.pyplot(fig)\n",
    "    \n",
    "3## esto es para generar un punto y al mercarlo con el mouse pongo lo que quiero que salga\n",
    "    \n",
    "dim= st.radio('Dimensión a mostrar:', ('Filas', 'Columnas'))\n",
    "\n",
    "if dim == 'Filas':\n",
    "    st.write('Cantidad de filas:', top10.shape[0])\n",
    "if dim == 'Columnas':\n",
    "    st.write('Cantidad de columnas:', top10.shape[1])\n",
    "    \n",
    "precio_limite = st.slider('definir precio máximo', 0,4000, 70000)\n",
    "\n",
    "fig= plt.figure(figsize=(6,4))\n",
    "sns.scatterplot(x='ath', y='name', data = top10[top10['ath']<precio_limite])\n",
    "st.pyplot(fig)"
   ]
  }
 ],
 "metadata": {
  "language_info": {
   "name": "python"
  },
  "orig_nbformat": 4
 },
 "nbformat": 4,
 "nbformat_minor": 2
}
